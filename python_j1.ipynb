{
  "nbformat": 4,
  "nbformat_minor": 0,
  "metadata": {
    "colab": {
      "provenance": [],
      "gpuType": "T4",
      "authorship_tag": "ABX9TyPnM0rKWk+zpjrM58sB0nuj",
      "include_colab_link": true
    },
    "kernelspec": {
      "name": "python3",
      "display_name": "Python 3"
    },
    "language_info": {
      "name": "python"
    },
    "accelerator": "GPU"
  },
  "cells": [
    {
      "cell_type": "markdown",
      "metadata": {
        "id": "view-in-github",
        "colab_type": "text"
      },
      "source": [
        "<a href=\"https://colab.research.google.com/github/Kimia-Bagheri/X-O/blob/master/python_j1.ipynb\" target=\"_parent\"><img src=\"https://colab.research.google.com/assets/colab-badge.svg\" alt=\"Open In Colab\"/></a>"
      ]
    },
    {
      "cell_type": "code",
      "execution_count": null,
      "metadata": {
        "colab": {
          "base_uri": "https://localhost:8080/"
        },
        "id": "6M9oSb0dMXy5",
        "outputId": "8e7e0301-9d25-47ed-e9c8-4f3ccc0496bd"
      },
      "outputs": [
        {
          "output_type": "execute_result",
          "data": {
            "text/plain": [
              "str"
            ]
          },
          "metadata": {},
          "execution_count": 56
        }
      ],
      "source": [
        "name=\"kimia\"\n",
        "type(name)"
      ]
    },
    {
      "cell_type": "code",
      "source": [
        "input(\"Enter your age:\")\n",
        "a=int(a)\n",
        "type(a)\n",
        "print(a)"
      ],
      "metadata": {
        "colab": {
          "base_uri": "https://localhost:8080/"
        },
        "id": "ZyK8fel2MlVC",
        "outputId": "9cd9f184-be88-4806-a390-acb681761864"
      },
      "execution_count": null,
      "outputs": [
        {
          "output_type": "stream",
          "name": "stdout",
          "text": [
            "Enter your age:56\n",
            "0\n"
          ]
        }
      ]
    },
    {
      "cell_type": "code",
      "source": [
        "name=\"mohi\"\n",
        "family=\"nikogoftar\"\n",
        "full_name= name+\" \"+family\n",
        "print(full_name);"
      ],
      "metadata": {
        "colab": {
          "base_uri": "https://localhost:8080/"
        },
        "id": "btnk1jS8N0pD",
        "outputId": "5d6875fe-e332-4b23-9a2a-5a742270e799"
      },
      "execution_count": null,
      "outputs": [
        {
          "output_type": "stream",
          "name": "stdout",
          "text": [
            "mohi nikogoftar\n"
          ]
        }
      ]
    },
    {
      "cell_type": "markdown",
      "source": [],
      "metadata": {
        "id": "G1_fXqconL2W"
      }
    },
    {
      "cell_type": "code",
      "source": [
        "name=\"mohi\"\n",
        "family=\"nikogoftar\"\n",
        "full_name= name+\" \"+family\n",
        "print(full_name)\n",
        "name"
      ],
      "metadata": {
        "id": "saduQW7tQEiM"
      },
      "execution_count": null,
      "outputs": []
    },
    {
      "cell_type": "code",
      "source": [
        "a=6\n",
        "if a==4 :\n",
        "  print(\"a is 4\")\n",
        "else:\n",
        "  print(\"a is not 4\")"
      ],
      "metadata": {
        "colab": {
          "base_uri": "https://localhost:8080/"
        },
        "id": "Hd4mdDlxQvxv",
        "outputId": "05083e83-331f-4d1e-d1b2-df9f258c6f4a"
      },
      "execution_count": null,
      "outputs": [
        {
          "output_type": "stream",
          "name": "stdout",
          "text": [
            "a is not 4\n"
          ]
        }
      ]
    },
    {
      "cell_type": "code",
      "source": [
        "a=4\n",
        "b=10\n",
        "if a==4 or b<a :\n",
        "  print(\"a is 4\")\n",
        "else:\n",
        "  print(\"a is not 4\")"
      ],
      "metadata": {
        "colab": {
          "base_uri": "https://localhost:8080/"
        },
        "id": "ZfdeUWq0RYqm",
        "outputId": "ed97e405-1e37-4481-cf9d-2ce89add1513"
      },
      "execution_count": null,
      "outputs": [
        {
          "output_type": "stream",
          "name": "stdout",
          "text": [
            "a is 4\n"
          ]
        }
      ]
    },
    {
      "cell_type": "code",
      "source": [
        "a=5\n",
        "b=10\n",
        "if a==4 or b<a :\n",
        "  print(\"a is 4\")\n",
        "else:\n",
        "  print(\"a is not 4\")"
      ],
      "metadata": {
        "colab": {
          "base_uri": "https://localhost:8080/"
        },
        "id": "je7E_8BsR8TA",
        "outputId": "9ba68568-ea69-4214-a3e9-409fcb73a70c"
      },
      "execution_count": null,
      "outputs": [
        {
          "output_type": "stream",
          "name": "stdout",
          "text": [
            "a is not 4\n"
          ]
        }
      ]
    },
    {
      "cell_type": "code",
      "source": [
        "a=int(input(\"Enter a 3 digits number:\"))\n",
        "\n"
      ],
      "metadata": {
        "colab": {
          "base_uri": "https://localhost:8080/"
        },
        "id": "9-7u3JKuSA3Y",
        "outputId": "200d7f1d-eb60-4573-cbfb-cf5d7f41ca98"
      },
      "execution_count": null,
      "outputs": [
        {
          "name": "stdout",
          "output_type": "stream",
          "text": [
            "Enter your age:200\n"
          ]
        }
      ]
    },
    {
      "cell_type": "code",
      "source": [
        "b=a%10\n",
        "a=int(a/10)\n",
        "c=a%10\n",
        "a=int(a/10)\n",
        "d=a%10"
      ],
      "metadata": {
        "id": "oBvTtD7TSkWv"
      },
      "execution_count": null,
      "outputs": []
    },
    {
      "cell_type": "code",
      "source": [
        "x=(b*100+c*10+d)*3"
      ],
      "metadata": {
        "id": "Jtu_ctVeUCta"
      },
      "execution_count": null,
      "outputs": []
    },
    {
      "cell_type": "code",
      "source": [],
      "metadata": {
        "id": "C67TGhD7uCpl"
      },
      "execution_count": null,
      "outputs": []
    },
    {
      "cell_type": "code",
      "source": [],
      "metadata": {
        "id": "UhK_iECKUf-C"
      },
      "execution_count": null,
      "outputs": []
    },
    {
      "cell_type": "code",
      "source": [],
      "metadata": {
        "colab": {
          "base_uri": "https://localhost:8080/"
        },
        "id": "PBmjdwCDUicW",
        "outputId": "41e6277e-2a23-40bd-941f-848fe63d0033"
      },
      "execution_count": null,
      "outputs": [
        {
          "name": "stdout",
          "output_type": "stream",
          "text": [
            "Enter your age:20\n"
          ]
        }
      ]
    },
    {
      "cell_type": "code",
      "source": [],
      "metadata": {
        "colab": {
          "base_uri": "https://localhost:8080/",
          "height": 110
        },
        "id": "eEBuKNaLWSbv",
        "outputId": "51741990-1d90-4b49-9c97-2e22527c476e"
      },
      "execution_count": null,
      "outputs": [
        {
          "output_type": "error",
          "ename": "SyntaxError",
          "evalue": "expected ':' (<ipython-input-1-c9c0cd281f4c>, line 3)",
          "traceback": [
            "\u001b[0;36m  File \u001b[0;32m\"<ipython-input-1-c9c0cd281f4c>\"\u001b[0;36m, line \u001b[0;32m3\u001b[0m\n\u001b[0;31m    else if a=>6 and a<10:\u001b[0m\n\u001b[0m         ^\u001b[0m\n\u001b[0;31mSyntaxError\u001b[0m\u001b[0;31m:\u001b[0m expected ':'\n"
          ]
        }
      ]
    },
    {
      "cell_type": "code",
      "source": [
        "def jam(a,b):\n",
        "  javab=a+b\n",
        "  print(javab)\n",
        "jam(4,7)"
      ],
      "metadata": {
        "colab": {
          "base_uri": "https://localhost:8080/"
        },
        "id": "KaVcAwCjuiq8",
        "outputId": "d49b3382-6af4-43d5-a618-1d9404bc630b"
      },
      "execution_count": null,
      "outputs": [
        {
          "output_type": "stream",
          "name": "stdout",
          "text": [
            "11\n"
          ]
        }
      ]
    },
    {
      "cell_type": "code",
      "source": [
        "def jam(a,b):\n",
        "  javab=a+b\n",
        "  return (javab)\n",
        "j=jam(4,7)\n",
        "print(j)"
      ],
      "metadata": {
        "colab": {
          "base_uri": "https://localhost:8080/"
        },
        "id": "FD4vawHuvXGl",
        "outputId": "8410a0e2-9efb-48e8-f89d-7d23f5ce1f15"
      },
      "execution_count": null,
      "outputs": [
        {
          "output_type": "stream",
          "name": "stdout",
          "text": [
            "11\n"
          ]
        }
      ]
    },
    {
      "cell_type": "code",
      "source": [
        "import math\n",
        "print(math.sin(0.6))"
      ],
      "metadata": {
        "id": "1woV6jVIvhss"
      },
      "execution_count": null,
      "outputs": []
    },
    {
      "cell_type": "code",
      "source": [
        "word=\"bahar\"\n",
        "for ch in word :\n",
        "  print (ch)\n"
      ],
      "metadata": {
        "id": "-isdYPT-ySr1"
      },
      "execution_count": null,
      "outputs": []
    },
    {
      "cell_type": "code",
      "source": [
        "word =\"bahar\"\n",
        "sentence=\"i am bahar\"\n",
        "for word in sentence:\n",
        "  print(word)"
      ],
      "metadata": {
        "id": "Xe98wBibys8I"
      },
      "execution_count": null,
      "outputs": []
    },
    {
      "cell_type": "code",
      "source": [
        "word =\"bahar\"\n",
        "sentence=\"i am bahar\"\n",
        "for word in sentence.split(\" \"):\n",
        "  print(word)"
      ],
      "metadata": {
        "id": "tvYrZDB2zcye"
      },
      "execution_count": null,
      "outputs": []
    },
    {
      "cell_type": "code",
      "source": [
        "my_word=sentence.split(\" \")\n",
        "print(my_word)\n",
        "print(type(my_word))"
      ],
      "metadata": {
        "id": "Ozr9Ldf4zpFq"
      },
      "execution_count": null,
      "outputs": []
    },
    {
      "cell_type": "code",
      "source": [
        "a=[1,2,3,4,6.8.9]\n",
        "for aded in a:\n",
        "  print(aded)"
      ],
      "metadata": {
        "id": "SQz6qE3fz-pO"
      },
      "execution_count": null,
      "outputs": []
    },
    {
      "cell_type": "code",
      "source": [
        "# a=[1,2,3,4,5,6]\n",
        "a=list(range(0,10))\n",
        "print(a)"
      ],
      "metadata": {
        "id": "s87tQ8fC0VF6"
      },
      "execution_count": null,
      "outputs": []
    },
    {
      "cell_type": "code",
      "source": [
        "#counter=5\n",
        "#while counter == 0:\n",
        "#  print (counter)=> in ghalate\n",
        "counter=5\n",
        "while counter>=0\n",
        "print(counter)\n",
        "counter= counter-1\n"
      ],
      "metadata": {
        "id": "n2lQ1ihl0iXF"
      },
      "execution_count": null,
      "outputs": []
    },
    {
      "cell_type": "code",
      "source": [
        "#یه عدد به عنوان ورودی میگیریم ببینیم این عدد اول هست یا نه\n",
        "num=input(\"enter a number=\")\n",
        "for i in range(2,num):\n",
        "  if num%i==0:\n",
        "    c+=1\n",
        "   if c==1:\n",
        "    print(\"aval hast\")\n",
        "   else\n",
        "    print(\"aval nist\")\n",
        "\n"
      ],
      "metadata": {
        "id": "QRDwnRd21o0z"
      },
      "execution_count": null,
      "outputs": []
    },
    {
      "cell_type": "code",
      "source": [
        "#یه عدد به عنوان ورودی میگیریم ببینیم این عدد اول هست یا نه\n",
        "num=input(\"enter a number=\")\n",
        "for i in range(1,num):\n",
        "  if num%i==0:\n",
        "    c+=1\n",
        "   if c==2:\n",
        "    print(\"aval hast\")\n",
        "   else\n",
        "    print(\"aval nist\")\n"
      ],
      "metadata": {
        "id": "1IMj_jiB2ICl"
      },
      "execution_count": null,
      "outputs": []
    },
    {
      "cell_type": "code",
      "source": [
        "6#کامپیوتر عدد رندوم تولید میکند من که کاربرم هر سری حدس میزنم و این کامپیوتر میگه که این بزرگ تره یا کوچیکتره عدد صحیح 1-100\n",
        "import random as r\n",
        "adad=r.randint(1,100)\n",
        "while hads==adad:\n",
        "  hads=input(\"guess it:\")\n",
        "  if hads==adad:\n",
        "    print(\"you win\")\n",
        "  elif hads>adad:\n",
        "    print(\"guess it lower\")\n",
        "  else\n",
        "    print(\"guess it higher\")\n"
      ],
      "metadata": {
        "id": "T4s7SZvW6sQg"
      },
      "execution_count": null,
      "outputs": []
    },
    {
      "cell_type": "code",
      "source": [
        "#برعکس سوال قبل ما تولید میکنیم اون حدس بزنه\n",
        "import random as r\n",
        "adad=56\n",
        "while hads==adad:\n",
        "  hads=r.randint(1,100)\n"
      ],
      "metadata": {
        "id": "a3BADvOO_BZA"
      },
      "execution_count": null,
      "outputs": []
    },
    {
      "cell_type": "code",
      "source": [
        "import cv2\n",
        "import matplotlib.pyplot as plt\n",
        "\n",
        "img = cv2.imread(\"/content/خداداد عزیزی.jpg\")\n",
        "# print(img)\n",
        "img = cv2.cvtColor(img, cv2.COLOR_BGR2RGB)\n",
        "plt.imshow(img)\n",
        "plt.show()\n",
        "img_shape = img.shape\n",
        "print(\"image size: \", img_shape)\n",
        "# print(img[y][x][c])\n",
        "# print(\"pixel value: \", img[182][274])\n",
        "\n",
        "pix_num=0\n",
        "\n",
        "for c in range(img_shape[2]):\n",
        "    for x in range(img_shape[1]):\n",
        "        for y in range(img_shape[0]):\n",
        "            print(y,\",\",x, \",\", c , \" : \", img[y][x][c])\n",
        "            pix_num+=1\n",
        "\n",
        "print(\"image size: \", img_shape)\n",
        "pixels=img_shape[0]*img_shape[1]*img_shape[2]\n",
        "print(\"pixels: \", pixels)\n",
        "print(\"number of pixel: \", pix_num)\n",
        "\n",
        "gray = cv2.cvtColor(img, cv2.COLOR_RGB2GRAY)\n",
        "print(gray.shape)\n",
        "\n",
        "\n",
        "\n",
        "fig = plt.figure(figsize=(10, 10))\n",
        "fig.add_subplot(221)\n",
        "plt.title('RGB image')\n",
        "plt.imshow(img)\n",
        "plt.axis(\"off\")\n",
        "fig.add_subplot(222)\n",
        "plt.title('Gray image1')\n",
        "plt.imshow(gray, cmap=\"gray\")\n",
        "plt.axis(\"off\")\n",
        "fig.add_subplot(223)\n",
        "plt.title('Gray image2')\n",
        "plt.imshow(gray, cmap=\"gray\")\n",
        "plt.axis(\"off\")\n",
        "fig.add_subplot(224)\n",
        "plt.title('Gray image3')\n",
        "plt.imshow(gray, cmap=\"gray\")\n",
        "plt.axis(\"off\")\n",
        "plt.show()\n",
        "\n",
        "\n",
        "\n",
        "\n",
        "# import necessary packages\n",
        "import matplotlib.pyplot as plt\n",
        "\n",
        "# list of weights\n",
        "weights = [30, 50, 45, 80, 76, 55, 45, 47, 50, 65]\n",
        "\n",
        "# plotting labelled histogram\n",
        "plt.hist(weights, bins=51)\n",
        "plt.xlabel('weight')\n",
        "plt.ylabel('Person count')\n",
        "plt.show()"
      ],
      "metadata": {
        "id": "QIzOv6kM_6OO"
      },
      "execution_count": null,
      "outputs": []
    }
  ]
}